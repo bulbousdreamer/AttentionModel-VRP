{
 "cells": [
  {
   "cell_type": "code",
   "execution_count": 19,
   "metadata": {
    "collapsed": true
   },
   "outputs": [
    {
     "name": "stdout",
     "output_type": "stream",
     "text": [
      "2022-09-20 18:04:25 model initialized\n",
      "2022-09-20 18:04:28 validation dataset created and saved on the disk\n",
      "Evaluating baseline model on baseline dataset (epoch = 0)\n"
     ]
    },
    {
     "name": "stderr",
     "output_type": "stream",
     "text": [
      "Rollout greedy execution: 100%|██████████| 10/10 [00:04<00:00,  2.37it/s]\n"
     ]
    },
    {
     "name": "stdout",
     "output_type": "stream",
     "text": [
      "2022-09-20 18:04:35 baseline initialized\n",
      "Current decode type: sampling\n"
     ]
    },
    {
     "name": "stderr",
     "output_type": "stream",
     "text": [
      "batch calculation at epoch 0: 1it [00:00,  1.23it/s]"
     ]
    },
    {
     "name": "stdout",
     "output_type": "stream",
     "text": [
      "grad_global_norm = 186.95057678222656, clipped_norm = 0.9999999403953552\n",
      "Epoch 0 (batch = 0): Loss: 4.606464862823486: Cost: 15.456106185913086\n"
     ]
    },
    {
     "name": "stderr",
     "output_type": "stream",
     "text": [
      "batch calculation at epoch 0: 250it [02:48,  1.49it/s]\n"
     ]
    },
    {
     "name": "stdout",
     "output_type": "stream",
     "text": [
      "Evaluating candidate model on baseline dataset (callback epoch = 0)\n"
     ]
    },
    {
     "name": "stderr",
     "output_type": "stream",
     "text": [
      "Rollout greedy execution: 100%|██████████| 10/10 [00:03<00:00,  2.57it/s]\n"
     ]
    },
    {
     "name": "stdout",
     "output_type": "stream",
     "text": [
      "Epoch 0 candidate mean 7.391591548919678, baseline epoch 0 mean 13.892781257629395, difference -6.501189708709717\n",
      "p-value: 0.0\n",
      "Update baseline\n",
      "Evaluating baseline model on baseline dataset (epoch = 0)\n"
     ]
    },
    {
     "name": "stderr",
     "output_type": "stream",
     "text": [
      "Rollout greedy execution: 100%|██████████| 10/10 [00:03<00:00,  2.74it/s]\n"
     ]
    },
    {
     "name": "stdout",
     "output_type": "stream",
     "text": [
      "alpha was updated to 1.0\n"
     ]
    },
    {
     "name": "stderr",
     "output_type": "stream",
     "text": [
      "Rollout greedy execution: 100%|██████████| 10/10 [00:03<00:00,  2.54it/s]\n"
     ]
    },
    {
     "name": "stdout",
     "output_type": "stream",
     "text": [
      "Validation score: 7.400700092315674\n",
      "2022-09-20 18:08:08 Epoch 0: Loss: 1.6397210359573364: Cost: 8.406983375549316\n"
     ]
    },
    {
     "name": "stderr",
     "output_type": "stream",
     "text": [
      "Rollout greedy execution: 100%|██████████| 63/63 [00:39<00:00,  1.58it/s]\n"
     ]
    },
    {
     "name": "stdout",
     "output_type": "stream",
     "text": [
      "Current decode type: sampling\n"
     ]
    },
    {
     "name": "stderr",
     "output_type": "stream",
     "text": [
      "batch calculation at epoch 1: 1it [00:00,  1.48it/s]"
     ]
    },
    {
     "name": "stdout",
     "output_type": "stream",
     "text": [
      "grad_global_norm = 18.496612548828125, clipped_norm = 1.0\n",
      "Epoch 1 (batch = 0): Loss: -4.285667419433594: Cost: 7.6857404708862305\n"
     ]
    },
    {
     "name": "stderr",
     "output_type": "stream",
     "text": [
      "batch calculation at epoch 1: 250it [02:49,  1.48it/s]\n"
     ]
    },
    {
     "name": "stdout",
     "output_type": "stream",
     "text": [
      "Evaluating candidate model on baseline dataset (callback epoch = 1)\n"
     ]
    },
    {
     "name": "stderr",
     "output_type": "stream",
     "text": [
      "Rollout greedy execution: 100%|██████████| 10/10 [00:03<00:00,  2.63it/s]\n"
     ]
    },
    {
     "name": "stdout",
     "output_type": "stream",
     "text": [
      "Epoch 1 candidate mean 7.052035808563232, baseline epoch 1 mean 7.395889759063721, difference -0.3438539505004883\n",
      "p-value: 0.0\n",
      "Update baseline\n",
      "Evaluating baseline model on baseline dataset (epoch = 1)\n"
     ]
    },
    {
     "name": "stderr",
     "output_type": "stream",
     "text": [
      "Rollout greedy execution: 100%|██████████| 10/10 [00:03<00:00,  2.74it/s]\n",
      "Rollout greedy execution: 100%|██████████| 10/10 [00:03<00:00,  2.59it/s]\n"
     ]
    },
    {
     "name": "stdout",
     "output_type": "stream",
     "text": [
      "Validation score: 7.0584001541137695\n",
      "2022-09-20 18:12:22 Epoch 1: Loss: -0.6140571236610413: Cost: 7.3776702880859375\n"
     ]
    },
    {
     "name": "stderr",
     "output_type": "stream",
     "text": [
      "Rollout greedy execution: 100%|██████████| 63/63 [00:40<00:00,  1.56it/s]\n"
     ]
    },
    {
     "name": "stdout",
     "output_type": "stream",
     "text": [
      "Current decode type: sampling\n"
     ]
    },
    {
     "name": "stderr",
     "output_type": "stream",
     "text": [
      "batch calculation at epoch 2: 1it [00:00,  1.49it/s]"
     ]
    },
    {
     "name": "stdout",
     "output_type": "stream",
     "text": [
      "grad_global_norm = 9.452826499938965, clipped_norm = 1.0\n",
      "Epoch 2 (batch = 0): Loss: -1.665935754776001: Cost: 7.158625602722168\n"
     ]
    },
    {
     "name": "stderr",
     "output_type": "stream",
     "text": [
      "batch calculation at epoch 2: 250it [02:47,  1.49it/s]\n"
     ]
    },
    {
     "name": "stdout",
     "output_type": "stream",
     "text": [
      "Evaluating candidate model on baseline dataset (callback epoch = 2)\n"
     ]
    },
    {
     "name": "stderr",
     "output_type": "stream",
     "text": [
      "Rollout greedy execution: 100%|██████████| 10/10 [00:03<00:00,  2.52it/s]\n"
     ]
    },
    {
     "name": "stdout",
     "output_type": "stream",
     "text": [
      "Epoch 2 candidate mean 6.933779716491699, baseline epoch 2 mean 7.034012317657471, difference -0.10023260116577148\n",
      "p-value: 2.1229240558823574e-89\n",
      "Update baseline\n",
      "Evaluating baseline model on baseline dataset (epoch = 2)\n"
     ]
    },
    {
     "name": "stderr",
     "output_type": "stream",
     "text": [
      "Rollout greedy execution: 100%|██████████| 10/10 [00:03<00:00,  2.64it/s]\n",
      "Rollout greedy execution: 100%|██████████| 10/10 [00:03<00:00,  2.63it/s]\n"
     ]
    },
    {
     "name": "stdout",
     "output_type": "stream",
     "text": [
      "Validation score: 6.953400135040283\n",
      "2022-09-20 18:16:36 Epoch 2: Loss: -1.144813060760498: Cost: 7.136233329772949\n"
     ]
    },
    {
     "name": "stderr",
     "output_type": "stream",
     "text": [
      "Rollout greedy execution: 100%|██████████| 63/63 [00:38<00:00,  1.64it/s]\n"
     ]
    },
    {
     "name": "stdout",
     "output_type": "stream",
     "text": [
      "Current decode type: sampling\n"
     ]
    },
    {
     "name": "stderr",
     "output_type": "stream",
     "text": [
      "batch calculation at epoch 3: 1it [00:00,  1.53it/s]"
     ]
    },
    {
     "name": "stdout",
     "output_type": "stream",
     "text": [
      "grad_global_norm = 8.575151443481445, clipped_norm = 1.0\n",
      "Epoch 3 (batch = 0): Loss: -1.6683202981948853: Cost: 7.111721038818359\n"
     ]
    },
    {
     "name": "stderr",
     "output_type": "stream",
     "text": [
      "batch calculation at epoch 3: 250it [02:49,  1.48it/s]\n"
     ]
    },
    {
     "name": "stdout",
     "output_type": "stream",
     "text": [
      "Evaluating candidate model on baseline dataset (callback epoch = 3)\n"
     ]
    },
    {
     "name": "stderr",
     "output_type": "stream",
     "text": [
      "Rollout greedy execution: 100%|██████████| 10/10 [00:04<00:00,  2.47it/s]\n"
     ]
    },
    {
     "name": "stdout",
     "output_type": "stream",
     "text": [
      "Epoch 3 candidate mean 6.8811469078063965, baseline epoch 3 mean 6.937617301940918, difference -0.056470394134521484\n",
      "p-value: 3.3383995364989773e-37\n",
      "Update baseline\n",
      "Evaluating baseline model on baseline dataset (epoch = 3)\n"
     ]
    },
    {
     "name": "stderr",
     "output_type": "stream",
     "text": [
      "Rollout greedy execution: 100%|██████████| 10/10 [00:03<00:00,  2.74it/s]\n",
      "Rollout greedy execution: 100%|██████████| 10/10 [00:03<00:00,  2.60it/s]\n"
     ]
    },
    {
     "name": "stdout",
     "output_type": "stream",
     "text": [
      "Validation score: 6.8983001708984375\n",
      "2022-09-20 18:20:49 Epoch 3: Loss: -1.058829426765442: Cost: 7.057712078094482\n"
     ]
    },
    {
     "name": "stderr",
     "output_type": "stream",
     "text": [
      "Rollout greedy execution: 100%|██████████| 63/63 [00:40<00:00,  1.57it/s]\n"
     ]
    },
    {
     "name": "stdout",
     "output_type": "stream",
     "text": [
      "Current decode type: sampling\n"
     ]
    },
    {
     "name": "stderr",
     "output_type": "stream",
     "text": [
      "batch calculation at epoch 4: 1it [00:00,  1.51it/s]"
     ]
    },
    {
     "name": "stdout",
     "output_type": "stream",
     "text": [
      "grad_global_norm = 6.374752521514893, clipped_norm = 1.0\n",
      "Epoch 4 (batch = 0): Loss: -0.8873022794723511: Cost: 7.046766757965088\n"
     ]
    },
    {
     "name": "stderr",
     "output_type": "stream",
     "text": [
      "batch calculation at epoch 4: 250it [02:48,  1.48it/s]\n"
     ]
    },
    {
     "name": "stdout",
     "output_type": "stream",
     "text": [
      "Evaluating candidate model on baseline dataset (callback epoch = 4)\n"
     ]
    },
    {
     "name": "stderr",
     "output_type": "stream",
     "text": [
      "Rollout greedy execution: 100%|██████████| 10/10 [00:03<00:00,  2.64it/s]\n"
     ]
    },
    {
     "name": "stdout",
     "output_type": "stream",
     "text": [
      "Epoch 4 candidate mean 6.879380702972412, baseline epoch 4 mean 6.902011871337891, difference -0.022631168365478516\n",
      "p-value: 3.396067608870721e-08\n",
      "Update baseline\n",
      "Evaluating baseline model on baseline dataset (epoch = 4)\n"
     ]
    },
    {
     "name": "stderr",
     "output_type": "stream",
     "text": [
      "Rollout greedy execution: 100%|██████████| 10/10 [00:03<00:00,  2.66it/s]\n",
      "Rollout greedy execution: 100%|██████████| 10/10 [00:03<00:00,  2.52it/s]\n",
      "/home/ehurt/git/AttentionModel-VRP/generate_data.py:101: UserWarning: Ignoring `palette` because no `hue` variable has been assigned.\n",
      "  sns.lineplot(x='epochs', y='val_сost', data=df_test, palette='darkblue', label='val cost').set(ylabel='cost')\n"
     ]
    },
    {
     "name": "stdout",
     "output_type": "stream",
     "text": [
      "Validation score: 6.870200157165527\n",
      "2022-09-20 18:25:03 Epoch 4: Loss: -1.0047019720077515: Cost: 6.993114948272705\n"
     ]
    },
    {
     "data": {
      "image/png": "[encoded data removed]",
      "text/plain": [
       "<Figure size 1500x900 with 2 Axes>"
      ]
     },
     "metadata": {},
     "output_type": "display_data"
    }
   ],
   "source": [
    "import tensorflow as tf\n",
    "from time import gmtime, strftime\n",
    "\n",
    "from attention_model import AttentionModel, set_decode_type\n",
    "from reinforce_baseline import RolloutBaseline\n",
    "from train import train_model\n",
    "\n",
    "from generate_data import create_data_on_disk, get_cur_time\n",
    "\n",
    "\n",
    "# Params of model\n",
    "SAMPLES = 128000 # 512*250\n",
    "BATCH = 512\n",
    "START_EPOCH = 0\n",
    "END_EPOCH = 5\n",
    "FROM_CHECKPOINT = False\n",
    "embedding_dim = 128\n",
    "LEARNING_RATE = 0.0001\n",
    "ROLLOUT_SAMPLES = 10000\n",
    "NUMBER_OF_WP_EPOCHS = 1\n",
    "GRAD_NORM_CLIPPING = 1.0\n",
    "BATCH_VERBOSE = 1000\n",
    "VAL_BATCH_SIZE = 1000\n",
    "VALIDATE_SET_SIZE = 10000\n",
    "SEED = 1234\n",
    "GRAPH_SIZE = 20\n",
    "FILENAME = 'VRP_{}_{}'.format(GRAPH_SIZE, strftime(\"%Y-%m-%d\", gmtime()))\n",
    "\n",
    "# Initialize model\n",
    "model_tf = AttentionModel(embedding_dim)\n",
    "set_decode_type(model_tf, \"sampling\")\n",
    "print(get_cur_time(), 'model initialized')\n",
    "\n",
    "# Create and save validation dataset\n",
    "validation_dataset = create_data_on_disk(GRAPH_SIZE,\n",
    "                                         VALIDATE_SET_SIZE,\n",
    "                                         is_save=True,\n",
    "                                         filename=FILENAME,\n",
    "                                         is_return=True,\n",
    "                                         seed = SEED)\n",
    "print(get_cur_time(), 'validation dataset created and saved on the disk')\n",
    "\n",
    "# Initialize optimizer\n",
    "optimizer = tf.keras.optimizers.Adam(LEARNING_RATE)\n",
    "\n",
    "# Initialize baseline\n",
    "baseline = RolloutBaseline(model_tf,\n",
    "                           wp_n_epochs = NUMBER_OF_WP_EPOCHS,\n",
    "                           epoch = 0,\n",
    "                           num_samples=ROLLOUT_SAMPLES,\n",
    "                           filename = FILENAME,\n",
    "                           from_checkpoint = FROM_CHECKPOINT,\n",
    "                           embedding_dim=embedding_dim,\n",
    "                           graph_size=GRAPH_SIZE\n",
    "                           )\n",
    "print(get_cur_time(), 'baseline initialized')\n",
    "\n",
    "train_model(optimizer,\n",
    "            model_tf,\n",
    "            baseline,\n",
    "            validation_dataset,\n",
    "            samples = SAMPLES,\n",
    "            batch = BATCH,\n",
    "            val_batch_size = VAL_BATCH_SIZE,\n",
    "            start_epoch = START_EPOCH,\n",
    "            end_epoch = END_EPOCH,\n",
    "            from_checkpoint = FROM_CHECKPOINT,\n",
    "            grad_norm_clipping = GRAD_NORM_CLIPPING,\n",
    "            batch_verbose = BATCH_VERBOSE,\n",
    "            graph_size = GRAPH_SIZE,\n",
    "            filename = FILENAME\n",
    "            )"
   ]
  },
  {
   "cell_type": "code",
   "execution_count": 32,
   "metadata": {
    "collapsed": false,
    "pycharm": {
     "name": "#%%\n"
    }
   },
   "outputs": [
    {
     "ename": "SyntaxError",
     "evalue": "invalid syntax (230325840.py, line 24)",
     "output_type": "error",
     "traceback": [
      "\u001b[0;36m  Cell \u001b[0;32mIn [32], line 24\u001b[0;36m\u001b[0m\n\u001b[0;31m    MDY = \"strftime(\"%Y-%m-%d\", gmtime())\"\u001b[0m\n\u001b[0m                        ^\u001b[0m\n\u001b[0;31mSyntaxError\u001b[0m\u001b[0;31m:\u001b[0m invalid syntax\n"
     ]
    }
   ],
   "source": [
    "import tensorflow as tf\n",
    "from time import gmtime, strftime\n",
    "\n",
    "from attention_model import set_decode_type\n",
    "from reinforce_baseline import RolloutBaseline\n",
    "from train import train_model\n",
    "\n",
    "from generate_data import get_cur_time\n",
    "from reinforce_baseline import load_tf_model\n",
    "from generate_data import read_from_pickle\n",
    "\n",
    "\n",
    "SAMPLES = 128000 # 512*250\n",
    "BATCH = 512\n",
    "LEARNING_RATE = 0.0001\n",
    "ROLLOUT_SAMPLES = 10000\n",
    "NUMBER_OF_WP_EPOCHS = 1\n",
    "GRAD_NORM_CLIPPING = 1.0\n",
    "BATCH_VERBOSE = 1000\n",
    "VAL_BATCH_SIZE = 1000\n",
    "VALIDATE_SET_SIZE = 10000\n",
    "SEED = 1234\n",
    "GRAPH_SIZE = 20\n",
    "MDY = \"strftime(\"%Y-%m-%d\", gmtime())\"\n",
    "FILENAME = 'VRP_{}_{}'.format(GRAPH_SIZE, MDY)\n",
    "FILENAME\n",
    "START_EPOCH = 5\n",
    "END_EPOCH = 10\n",
    "FROM_CHECKPOINT = True\n",
    "embedding_dim = 128\n",
    "MODEL_PATH = 'model_checkpoint_epoch_4_VRP_{}_{}.h5'.format(GRAPH_SIZE, MDY)\n",
    "VAL_SET_PATH = 'Validation_dataset_VRP_{}_{}.pkl'.format(GRAPH_SIZE, MDY)\n",
    "BASELINE_MODEL_PATH = 'baseline_checkpoint_epoch_4_VRP_{}_{}.h5'.format(GRAPH_SIZE, MDY)\n",
    "\n",
    "# Initialize model\n",
    "model_tf = load_tf_model(MODEL_PATH,\n",
    "                         embedding_dim=embedding_dim,\n",
    "                         graph_size=GRAPH_SIZE)\n",
    "set_decode_type(model_tf, \"sampling\")\n",
    "print(get_cur_time(), 'model loaded')\n",
    "\n",
    "# Create and save validation dataset\n",
    "validation_dataset = read_from_pickle(VAL_SET_PATH)\n",
    "print(get_cur_time(), 'validation dataset loaded')\n",
    "\n",
    "# Initialize optimizer\n",
    "optimizer = tf.keras.optimizers.Adam(LEARNING_RATE)\n",
    "\n",
    "# Initialize baseline\n",
    "baseline = RolloutBaseline(model_tf,\n",
    "                           wp_n_epochs = NUMBER_OF_WP_EPOCHS,\n",
    "                           epoch = START_EPOCH,\n",
    "                           num_samples=ROLLOUT_SAMPLES,\n",
    "                           filename = FILENAME,\n",
    "                           from_checkpoint = FROM_CHECKPOINT,\n",
    "                           embedding_dim=embedding_dim,\n",
    "                           graph_size=GRAPH_SIZE,\n",
    "                           path_to_checkpoint = BASELINE_MODEL_PATH)\n",
    "print(get_cur_time(), 'baseline initialized')\n",
    "\n",
    "train_model(optimizer,\n",
    "            model_tf,\n",
    "            baseline,\n",
    "            validation_dataset,\n",
    "            samples = SAMPLES,\n",
    "            batch = BATCH,\n",
    "            val_batch_size = VAL_BATCH_SIZE,\n",
    "            start_epoch = START_EPOCH,\n",
    "            end_epoch = END_EPOCH,\n",
    "            from_checkpoint = FROM_CHECKPOINT,\n",
    "            grad_norm_clipping = GRAD_NORM_CLIPPING,\n",
    "            batch_verbose = BATCH_VERBOSE,\n",
    "            graph_size = GRAPH_SIZE,\n",
    "            filename = FILENAME\n",
    "            )"
   ]
  },
  {
   "cell_type": "code",
   "execution_count": null,
   "metadata": {
    "collapsed": false,
    "pycharm": {
     "name": "#%%\n"
    }
   },
   "outputs": [
    {
     "ename": "",
     "evalue": "",
     "output_type": "error",
     "traceback": [
      "\u001b[1;31mRunning cells with 'Python 3.6.8 64-bit' requires ipykernel package.\n",
      "\u001b[1;31mRun the following command to install 'ipykernel' into the Python environment. \n",
      "\u001b[1;31mCommand: '/bin/python3 -m pip install ipykernel -U --user --force-reinstall'"
     ]
    }
   ],
   "source": [
    "\n"
   ]
  }
 ],
 "metadata": {
  "kernelspec": {
   "display_name": "Python 3.10.6 ('amvpr')",
   "language": "python",
   "name": "python3"
  },
  "language_info": {
   "codemirror_mode": {
    "name": "ipython",
    "version": 3
   },
   "file_extension": ".py",
   "mimetype": "text/x-python",
   "name": "python",
   "nbconvert_exporter": "python",
   "pygments_lexer": "ipython3",
   "version": "3.10.6"
  },
  "vscode": {
   "interpreter": {
    "hash": "00b53679e140d1204ac1187e56ba520780690fd958e3d075a4fc276ab93f8384"
   }
  }
 },
 "nbformat": 4,
 "nbformat_minor": 0
}
